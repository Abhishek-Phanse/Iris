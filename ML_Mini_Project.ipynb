{
  "cells": [
    {
      "cell_type": "code",
      "execution_count": null,
      "metadata": {
        "id": "MpiGbmuBgS23"
      },
      "outputs": [],
      "source": [
        "import numpy as np\n",
        "import pandas as pd\n",
        "import matplotlib.pyplot as plt\n",
        "import seaborn as sns\n",
        "from sklearn.datasets import load_iris\n",
        "from sklearn.metrics import classification_report, confusion_matrix\n",
        "from sklearn.model_selection import train_test_split\n",
        "%matplotlib inline\n",
        "\n",
        "# Load the Iris dataset\n",
        "iris_data = load_iris()\n",
        "iris_data1 = pd.read_csv('D:\\ML\\ML Mini Project\\Iris_data\\Iris.csv')\n",
        "\n",
        "# Access the feature matrix (X) and target vector (y)\n",
        "X = iris_data.data\n",
        "y = iris_data.target\n",
        "\n",
        "# iris_data['data']"
      ]
    },
    {
      "cell_type": "code",
      "execution_count": null,
      "metadata": {
        "colab": {
          "base_uri": "https://localhost:8080/",
          "height": 423
        },
        "id": "T3fVgJO_cO7e",
        "outputId": "316521c7-153e-40b0-9d61-6183fb8dfe44"
      },
      "outputs": [],
      "source": [
        "iris_data1"
      ]
    },
    {
      "cell_type": "code",
      "execution_count": null,
      "metadata": {
        "colab": {
          "base_uri": "https://localhost:8080/",
          "height": 0
        },
        "id": "C_vmkHcxonnm",
        "outputId": "d2a3dcc0-944a-44da-c883-c32ca1f047d6"
      },
      "outputs": [],
      "source": [
        "#Keys present in the Iris dataset\n",
        "iris_data.keys()"
      ]
    },
    {
      "cell_type": "code",
      "execution_count": null,
      "metadata": {
        "colab": {
          "base_uri": "https://localhost:8080/",
          "height": 0
        },
        "id": "t8j7uWkvopwW",
        "outputId": "6f52b459-8a10-40e0-e475-e3f56906deb6"
      },
      "outputs": [],
      "source": [
        "#Creating a DataFrame which includes the Features of the Iris dataset and its Numeric Values\n",
        "iris_df = pd.DataFrame(data = iris_data['data'], columns = iris_data['feature_names'])\n",
        "\n",
        "iris_df.info()"
      ]
    },
    {
      "cell_type": "code",
      "execution_count": null,
      "metadata": {
        "colab": {
          "base_uri": "https://localhost:8080/",
          "height": 0
        },
        "id": "M8ruABSQ14Km",
        "outputId": "227fba3b-5e9c-41d4-d961-30a20a8fb9f4"
      },
      "outputs": [],
      "source": [
        "iris_data1.info()"
      ]
    },
    {
      "cell_type": "code",
      "execution_count": null,
      "metadata": {
        "colab": {
          "base_uri": "https://localhost:8080/",
          "height": 519
        },
        "id": "ecQQ2niEM6lw",
        "outputId": "5e80537b-d8c3-477b-e653-ba2d7e128206"
      },
      "outputs": [],
      "source": [
        "#This is what the Iris DataFrame looks like\n",
        "iris_df.head(15)"
      ]
    },
    {
      "cell_type": "code",
      "execution_count": null,
      "metadata": {
        "colab": {
          "base_uri": "https://localhost:8080/",
          "height": 206
        },
        "id": "1n2m3OBGM3K6",
        "outputId": "2de2aa89-37fe-43d7-8373-b4fcb7e94b81"
      },
      "outputs": [],
      "source": [
        "#Now let's include the Type of Iris in the Iris DataFrame\n",
        "iris_df['Iris type'] = iris_data['target']\n",
        "\n",
        "iris_df.head()"
      ]
    },
    {
      "cell_type": "code",
      "execution_count": null,
      "metadata": {
        "colab": {
          "base_uri": "https://localhost:8080/",
          "height": 206
        },
        "id": "N0uCPTBEohuO",
        "outputId": "06f4675c-e2bc-4d67-bb65-77f522201f77"
      },
      "outputs": [],
      "source": [
        "#Naming each Type of Iris\n",
        "def f(x):\n",
        "    if x == 0:\n",
        "        val = 'setosa'\n",
        "    elif x == 1:\n",
        "        val = 'versicolor'\n",
        "    else:\n",
        "        val = 'virginica'\n",
        "    return val\n",
        "\n",
        "iris_df['Iris_name'] = iris_df['Iris type'].apply(f)\n",
        "\n",
        "iris_df.head()"
      ]
    },
    {
      "cell_type": "code",
      "execution_count": null,
      "metadata": {
        "colab": {
          "base_uri": "https://localhost:8080/",
          "height": 519
        },
        "id": "rOU6QxSEpbXz",
        "outputId": "da04438d-36a1-4699-9fd5-265b03a066fa"
      },
      "outputs": [],
      "source": [
        "#A sample of Data entries of each Type of Iris\n",
        "iris_df.groupby(['Iris_name']).head()"
      ]
    },
    {
      "cell_type": "code",
      "execution_count": null,
      "metadata": {
        "colab": {
          "base_uri": "https://localhost:8080/",
          "height": 1000
        },
        "id": "oE5vjgH0yDoJ",
        "outputId": "83fd16c4-4b30-4e1d-e2f9-59b796ac9baa"
      },
      "outputs": [],
      "source": [
        "#Violin plot of the Iris DataFrame\n",
        "def plot_violin(y2,i):\n",
        "    plt.subplot(2,2,i)\n",
        "\n",
        "    sns.violinplot(x='Iris_name',y= y2, data=iris_df)\n",
        "\n",
        "plt.figure(figsize=(17,12))\n",
        "i = 1\n",
        "for measurement in iris_df.columns[:-2]:\n",
        "    plot_violin(measurement,i)\n",
        "    sns.despine(offset=10, trim=True)\n",
        "    i += 1"
      ]
    },
    {
      "cell_type": "code",
      "execution_count": null,
      "metadata": {
        "colab": {
          "base_uri": "https://localhost:8080/",
          "height": 1000
        },
        "id": "MH7gJ1ANy1PV",
        "outputId": "4b57a933-6e22-4588-dda8-506fb52b87cc"
      },
      "outputs": [],
      "source": [
        "#PairPlot of the Iris DataFrame\n",
        "sns.pairplot(iris_df, hue = 'Iris_name', vars = ['sepal length (cm)', 'sepal width (cm)', 'petal length (cm)', 'petal width (cm)'], palette = 'Set1' )"
      ]
    },
    {
      "cell_type": "code",
      "execution_count": null,
      "metadata": {
        "id": "9X6J0OtP0GRT"
      },
      "outputs": [],
      "source": [
        "#Defining a Confusion Matrix Function\n",
        "def print_confusion_matrix(confusion_matrix, class_names, figsize = (9,7), fontsize=14):\n",
        "  df_cm = pd.DataFrame(\n",
        "        confusion_matrix, index=class_names, columns=class_names,\n",
        "    )\n",
        "  figu = plt.figure(figsize=figsize)\n",
        "  try:\n",
        "      heatmap = sns.heatmap(df_cm, annot=True, fmt=\"d\", cbar=False)\n",
        "  except ValueError:\n",
        "    raise ValueError(\"Confusion matrix values must be integers.\")\n",
        "  heatmap.yaxis.set_ticklabels(heatmap.yaxis.get_ticklabels(), rotation=0, ha='right', fontsize=fontsize)\n",
        "  heatmap.xaxis.set_ticklabels(heatmap.xaxis.get_ticklabels(), rotation=45, ha='right', fontsize=fontsize)\n",
        "  plt.ylabel('True label', fontsize = 12)\n",
        "  plt.xlabel('Predicted label', fontsize = 12)\n",
        "  plt.title('Confusion Matrix', fontsize = 16)"
      ]
    },
    {
      "cell_type": "code",
      "execution_count": null,
      "metadata": {
        "colab": {
          "base_uri": "https://localhost:8080/",
          "height": 423
        },
        "id": "5v8KBIiaRgpU",
        "outputId": "a031fe25-1fd6-4114-fb15-747c2d93834d"
      },
      "outputs": [],
      "source": [
        "iris_data1"
      ]
    },
    {
      "cell_type": "code",
      "execution_count": null,
      "metadata": {
        "id": "XbsLzP0pzR42"
      },
      "outputs": [],
      "source": [
        "#Train and Test Split for KNN Classifier\n",
        "X = iris_df[['sepal length (cm)', 'sepal width (cm)', 'petal length (cm)','petal width (cm)']]\n",
        "y = iris_df['Iris_name']\n",
        "X_train, X_test, y_train, y_test = train_test_split(X, y,test_size=0.2, random_state = 28)"
      ]
    },
    {
      "cell_type": "code",
      "execution_count": null,
      "metadata": {
        "colab": {
          "base_uri": "https://localhost:8080/",
          "height": 0
        },
        "id": "ajsDCp2W2NhR",
        "outputId": "c7873c85-7f5a-4fe2-d657-ada205a90aa2"
      },
      "outputs": [],
      "source": [
        "#KNN classifier Used Here\n",
        "from sklearn.neighbors import KNeighborsClassifier\n",
        "knn = KNeighborsClassifier(n_neighbors=5)\n",
        "knn.fit(X_train, y_train)\n",
        "y_pred1 = knn.predict(X_test)\n",
        "y_pred1"
      ]
    },
    {
      "cell_type": "code",
      "execution_count": null,
      "metadata": {
        "colab": {
          "base_uri": "https://localhost:8080/",
          "height": 990
        },
        "id": "_cvQf_6dQQHC",
        "outputId": "d6e5b853-4130-4962-c4ef-7447b05524f2"
      },
      "outputs": [],
      "source": [
        "data1 = {'Original Species Name': y_test, 'Predicted Species Name': y_pred1}\n",
        "df1 = pd.DataFrame(data=data1)\n",
        "df1"
      ]
    },
    {
      "cell_type": "code",
      "execution_count": null,
      "metadata": {
        "colab": {
          "base_uri": "https://localhost:8080/",
          "height": 990
        },
        "id": "ZS1SsO4F1TeA",
        "outputId": "ac5b940e-29c7-434f-ea00-d424a7467e6c"
      },
      "outputs": [],
      "source": [
        "X_test"
      ]
    },
    {
      "cell_type": "code",
      "execution_count": null,
      "metadata": {
        "colab": {
          "base_uri": "https://localhost:8080/",
          "height": 0
        },
        "id": "hmG_p_w0CHrY",
        "outputId": "0a347d97-5648-4725-8bc2-dcceb7042ac6"
      },
      "outputs": [],
      "source": [
        "#Accuracy of KNN\n",
        "print(f'Model Accuracy with k=5: {knn.score(X_test, y_test)}')"
      ]
    },
    {
      "cell_type": "code",
      "execution_count": null,
      "metadata": {
        "colab": {
          "base_uri": "https://localhost:8080/",
          "height": 0
        },
        "id": "brHK0R-kz7br",
        "outputId": "07350ff7-b519-4fc1-92ab-f9bc680f7990"
      },
      "outputs": [],
      "source": [
        "#Classification Report of KNN\n",
        "print(classification_report(y_test, y_pred1))"
      ]
    },
    {
      "cell_type": "code",
      "execution_count": null,
      "metadata": {
        "colab": {
          "base_uri": "https://localhost:8080/",
          "height": 714
        },
        "id": "IDUv8_yhz4_i",
        "outputId": "d84fa4d6-8d69-4a4f-ed0c-d997f05837b4"
      },
      "outputs": [],
      "source": [
        "#Confusion Matrix for KNN\n",
        "print_confusion_matrix(confusion_matrix(y_test, y_pred1), ['sentosa', 'versicolor', 'virginica'])"
      ]
    },
    {
      "cell_type": "code",
      "execution_count": null,
      "metadata": {
        "colab": {
          "base_uri": "https://localhost:8080/",
          "height": 641
        },
        "id": "eJ15uFl6z-TU",
        "outputId": "f6fdc93c-1758-44d6-d215-ed2a879e45f2"
      },
      "outputs": [],
      "source": [
        "#Prediction vs Actuality of the KNN classifier\n",
        "fig = plt.figure(figsize=(15,7))\n",
        "\n",
        "ax1 = fig.add_subplot(1,2,1)\n",
        "ax1 = sns.scatterplot(x = X_test['petal length (cm)'], y = X_test['petal width (cm)'], hue = y_pred1, alpha = 0.5)\n",
        "plt.title('Predicted')\n",
        "plt.legend(title='Iris name')\n",
        "\n",
        "ax2 = fig.add_subplot(1,2,2)\n",
        "ax2 = sns.scatterplot(x = X_test['petal length (cm)'], y = X_test['petal width (cm)'], hue = y_test, alpha = 0.5)\n",
        "plt.title('Actual');"
      ]
    },
    {
      "cell_type": "code",
      "execution_count": null,
      "metadata": {
        "id": "Q57jBP158ECN"
      },
      "outputs": [],
      "source": [
        "#Train and Test Split for Logistic Regression Classifier\n",
        "X = iris_df[['sepal length (cm)', 'sepal width (cm)', 'petal length (cm)','petal width (cm)']]\n",
        "y = iris_df['Iris_name']\n",
        "X_train, X_test, y_train, y_test = train_test_split(X, y,test_size=0.25, random_state = 39)"
      ]
    },
    {
      "cell_type": "code",
      "execution_count": null,
      "metadata": {
        "colab": {
          "base_uri": "https://localhost:8080/",
          "height": 0
        },
        "id": "Me24u4PB2mZD",
        "outputId": "5016e794-af80-4ad7-f274-c783f3e016fb"
      },
      "outputs": [],
      "source": [
        "#Logistic regression is used here\n",
        "from sklearn.linear_model import LogisticRegression\n",
        "LR = LogisticRegression(max_iter=1000)\n",
        "LR.fit(X_train, y_train)\n",
        "y_pred2 = LR.predict(X_test)\n",
        "y_pred2"
      ]
    },
    {
      "cell_type": "code",
      "execution_count": null,
      "metadata": {
        "colab": {
          "base_uri": "https://localhost:8080/",
          "height": 1240
        },
        "id": "sMs3b6AhP_k7",
        "outputId": "3fd1138d-d80a-46b4-dedd-b679f00a5a55"
      },
      "outputs": [],
      "source": [
        "data2 = {'Original Species Name': y_test, 'Predicted Species Name': y_pred2}\n",
        "df2 = pd.DataFrame(data=data2)\n",
        "df2"
      ]
    },
    {
      "cell_type": "code",
      "execution_count": null,
      "metadata": {
        "colab": {
          "base_uri": "https://localhost:8080/",
          "height": 1240
        },
        "id": "p7nmq5Gg7b3O",
        "outputId": "e063b82d-0d0a-4faa-cca3-4c37fc904fab"
      },
      "outputs": [],
      "source": [
        "X_test"
      ]
    },
    {
      "cell_type": "code",
      "execution_count": null,
      "metadata": {
        "colab": {
          "base_uri": "https://localhost:8080/",
          "height": 0
        },
        "id": "tKat7QhGCS6k",
        "outputId": "83e5636d-56dd-4f43-8ca3-cdcce688ca54"
      },
      "outputs": [],
      "source": [
        "#Accuracy of LR\n",
        "print(f'Model Accuracy: {LR.score(X_test, y_test)}')"
      ]
    },
    {
      "cell_type": "code",
      "execution_count": null,
      "metadata": {
        "colab": {
          "base_uri": "https://localhost:8080/",
          "height": 0
        },
        "id": "uBg-nham4qFj",
        "outputId": "6e0361fb-6dc6-4fe7-8fa8-c4ed4e4de6e2"
      },
      "outputs": [],
      "source": [
        "#Classification Report of LR\n",
        "print(classification_report(y_test, y_pred2))"
      ]
    },
    {
      "cell_type": "code",
      "execution_count": null,
      "metadata": {
        "colab": {
          "base_uri": "https://localhost:8080/",
          "height": 714
        },
        "id": "XChRiPrg6zLH",
        "outputId": "9de6afd5-9c27-46ae-8757-91bffc63acb7"
      },
      "outputs": [],
      "source": [
        "#Confusion Matrix for LR\n",
        "print_confusion_matrix(confusion_matrix(y_test, y_pred2), ['sentosa', 'versicolor', 'virginica'])"
      ]
    },
    {
      "cell_type": "code",
      "execution_count": null,
      "metadata": {
        "colab": {
          "base_uri": "https://localhost:8080/",
          "height": 641
        },
        "id": "IYpfQT8j4v2T",
        "outputId": "224328fd-f08b-49fc-b3ae-b3d4989d8be3"
      },
      "outputs": [],
      "source": [
        "#Prediction vs Actuality of the LR Classifier\n",
        "fig = plt.figure(figsize=(15,7))\n",
        "\n",
        "ax1 = fig.add_subplot(1,2,1)\n",
        "ax1 = sns.scatterplot(x = X_test['petal length (cm)'], y = X_test['petal width (cm)'], hue = y_pred2, alpha = 0.5)\n",
        "plt.title('Predicted')\n",
        "plt.legend(title='Iris name')\n",
        "\n",
        "ax2 = fig.add_subplot(1,2,2)\n",
        "ax2 = sns.scatterplot(x = X_test['petal length (cm)'], y = X_test['petal width (cm)'], hue = y_test, alpha = 0.5)\n",
        "plt.title('Actual');"
      ]
    },
    {
      "cell_type": "code",
      "execution_count": null,
      "metadata": {
        "id": "FHTG2kH88FlG"
      },
      "outputs": [],
      "source": [
        "#Train and Test Split for Decision Trees Classifier\n",
        "X = iris_df[['sepal length (cm)', 'sepal width (cm)', 'petal length (cm)','petal width (cm)']]\n",
        "y = iris_df['Iris_name']\n",
        "X_train, X_test, y_train, y_test = train_test_split(X, y,test_size=0.3, random_state = 51)"
      ]
    },
    {
      "cell_type": "code",
      "execution_count": null,
      "metadata": {
        "colab": {
          "base_uri": "https://localhost:8080/",
          "height": 0
        },
        "id": "sFe48HXU6Kl3",
        "outputId": "1b4cfad9-d0cf-4772-8081-e24bc8ab47eb"
      },
      "outputs": [],
      "source": [
        "#Decision Tree is used here\n",
        "from sklearn.tree import DecisionTreeClassifier\n",
        "DT = DecisionTreeClassifier()\n",
        "DT.fit(X_train, y_train)\n",
        "y_pred3 = DT.predict(X_test)\n",
        "y_pred3"
      ]
    },
    {
      "cell_type": "code",
      "execution_count": null,
      "metadata": {
        "colab": {
          "base_uri": "https://localhost:8080/",
          "height": 1460
        },
        "id": "ejjuejNpOwUi",
        "outputId": "333e6b4c-20be-452b-a48b-d73a0781b9af"
      },
      "outputs": [],
      "source": [
        "data3 = {'Original Species Name': y_test, 'Predicted Species Name': y_pred3}\n",
        "df3 = pd.DataFrame(data=data3)\n",
        "df3"
      ]
    },
    {
      "cell_type": "code",
      "execution_count": null,
      "metadata": {
        "colab": {
          "base_uri": "https://localhost:8080/",
          "height": 1460
        },
        "id": "ICk0YXHh8PF8",
        "outputId": "170f460d-14d9-4fd9-c7e2-8dd5014c06ef"
      },
      "outputs": [],
      "source": [
        "X_test"
      ]
    },
    {
      "cell_type": "code",
      "execution_count": null,
      "metadata": {
        "colab": {
          "base_uri": "https://localhost:8080/",
          "height": 0
        },
        "id": "_HOSx8mSCXPx",
        "outputId": "cac6d3a4-cb5d-4086-806e-994690e230bb"
      },
      "outputs": [],
      "source": [
        "#Accuracy of DT\n",
        "print(f'Model Accuracy: {DT.score(X_test, y_test)}')"
      ]
    },
    {
      "cell_type": "code",
      "execution_count": null,
      "metadata": {
        "colab": {
          "base_uri": "https://localhost:8080/",
          "height": 0
        },
        "id": "kOkoET0-6_jL",
        "outputId": "6e60e111-7711-4e0a-e363-4a35f04f5f7e"
      },
      "outputs": [],
      "source": [
        "#Classification Report of DT\n",
        "print(classification_report(y_test, y_pred3))"
      ]
    },
    {
      "cell_type": "code",
      "execution_count": null,
      "metadata": {
        "colab": {
          "base_uri": "https://localhost:8080/",
          "height": 714
        },
        "id": "re4h0s5k60wW",
        "outputId": "01a8f123-04ff-4c78-8b45-97c7d527b5d6"
      },
      "outputs": [],
      "source": [
        "#Confusion Matrix for DT\n",
        "print_confusion_matrix(confusion_matrix(y_test, y_pred3), ['sentosa', 'versicolor', 'virginica'])"
      ]
    },
    {
      "cell_type": "code",
      "execution_count": null,
      "metadata": {
        "colab": {
          "base_uri": "https://localhost:8080/",
          "height": 641
        },
        "id": "zRZ-izgF7TDc",
        "outputId": "fc796aa7-8e04-47d5-b562-b78928977625"
      },
      "outputs": [],
      "source": [
        "#Prediction vs Actuality of the DT Classifier\n",
        "fig = plt.figure(figsize=(15,7))\n",
        "\n",
        "ax1 = fig.add_subplot(1,2,1)\n",
        "ax1 = sns.scatterplot(x = X_test['petal length (cm)'], y = X_test['petal width (cm)'], hue = y_pred3, alpha = 0.5)\n",
        "plt.title('Predicted')\n",
        "plt.legend(title='Iris name')\n",
        "\n",
        "ax2 = fig.add_subplot(1,2,2)\n",
        "ax2 = sns.scatterplot(x = X_test['petal length (cm)'], y = X_test['petal width (cm)'], hue = y_test, alpha = 0.5)\n",
        "plt.title('Actual');"
      ]
    }
  ],
  "metadata": {
    "colab": {
      "provenance": []
    },
    "kernelspec": {
      "display_name": "Python 3",
      "name": "python3"
    },
    "language_info": {
      "codemirror_mode": {
        "name": "ipython",
        "version": 3
      },
      "file_extension": ".py",
      "mimetype": "text/x-python",
      "name": "python",
      "nbconvert_exporter": "python",
      "pygments_lexer": "ipython3",
      "version": "3.12.3"
    }
  },
  "nbformat": 4,
  "nbformat_minor": 0
}
